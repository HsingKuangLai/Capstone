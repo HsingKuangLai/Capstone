{
 "cells": [
  {
   "cell_type": "code",
   "execution_count": 33,
   "metadata": {},
   "outputs": [],
   "source": [
    "import requests\n",
    "import re\n",
    "\n",
    "# 設置 PDF 檔案的下載鏈接和檔案名稱\n",
    "company_code = \"2888\"\n",
    "year = \"110\"\n",
    "\n",
    "url = \"https://mops.twse.com.tw/server-java/FileDownLoad?step=9&filePath=/home/html/nas/protect/t100/&fileName=t100sa11_\" + company_code + \"_\" + year + \".pdf\"\n",
    "filename = \"t100sa11_\" + company_code + \"_\" + year + \".pdf\"\n",
    "\n",
    "# 發送 GET 請求並下載檔案\n",
    "response = requests.get(url)\n",
    "with open(filename, \"wb\") as f:\n",
    "    f.write(response.content)\n",
    "\n",
    "import pdfplumber\n",
    "import pandas as pd\n",
    "dfs = []\n",
    "# 打開PDF文件\n",
    "with pdfplumber.open(filename) as pdf:\n",
    "    \n",
    "    # 迭代每頁\n",
    "    for page in pdf.pages:\n",
    "        \n",
    "        # 迭代每個表格\n",
    "        for table in page.extract_tables():\n",
    "            \n",
    "            # 檢查表格是否為空\n",
    "            if table is None:\n",
    "                continue\n",
    "            df = pd.DataFrame(table[0:], columns=table[0])\n",
    "\n",
    "            for rows in table:\n",
    "                if rows is not None and \"GRI\" and \"準則\" and \"頁數\"in rows:\n",
    "                    df = pd.DataFrame(table[1:], columns=table[0])\n",
    "                    dfs.append(df)\n",
    "                    break\n",
    "\n",
    "merged_df = pd.concat(dfs, axis=0)\n",
    "merged_df\n",
    "\n",
    "excel_name=filename+\".xlsx\"\n",
    "output_excel=merged_df.to_excel(excel_name, index=False)\n"
   ]
  },
  {
   "cell_type": "code",
   "execution_count": 28,
   "metadata": {},
   "outputs": [],
   "source": [
    "import pandas as pd\n",
    "import numpy as np\n",
    "import openpyxl\n",
    "import os\n",
    "from openpyxl import load_workbook\n",
    "\n",
    "excel_name=filename+\".xlsx\"\n",
    "output_excel=merged_df.to_excel(excel_name, index=False)"
   ]
  },
  {
   "cell_type": "code",
   "execution_count": 22,
   "metadata": {},
   "outputs": [
    {
     "name": "stdout",
     "output_type": "stream",
     "text": [
      "False\n"
     ]
    }
   ],
   "source": [
    "import re\n",
    "\n",
    "print(bool(re.findall(r'\\d{3}-\\d{1,2}',\"我報告\")))"
   ]
  }
 ],
 "metadata": {
  "kernelspec": {
   "display_name": "Python 3",
   "language": "python",
   "name": "python3"
  },
  "language_info": {
   "codemirror_mode": {
    "name": "ipython",
    "version": 3
   },
   "file_extension": ".py",
   "mimetype": "text/x-python",
   "name": "python",
   "nbconvert_exporter": "python",
   "pygments_lexer": "ipython3",
   "version": "3.10.11"
  },
  "orig_nbformat": 4
 },
 "nbformat": 4,
 "nbformat_minor": 2
}
