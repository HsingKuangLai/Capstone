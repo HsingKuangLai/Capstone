{
 "cells": [
  {
   "cell_type": "code",
   "execution_count": 71,
   "id": "153757ef",
   "metadata": {},
   "outputs": [],
   "source": [
    "import re \n",
    "import pandas as pd \n",
    "import pdfplumber as pr\n",
    "import requests\n",
    "# 設置 PDF 檔案的下載鏈接和檔案名稱\n",
    "company_code = \"6024\"\n",
    "year = \"110\"\n",
    "\n",
    "url = \"https://mops.twse.com.tw/server-java/FileDownLoad?step=9&filePath=/home/html/nas/protect/t100/&fileName=t100sa11_\" + company_code + \"_\" + year + \".pdf\"\n",
    "filename = \"t100sa11_\" + company_code + \"_\" + year + \".pdf\"\n",
    "\n",
    "# 發送 GET 請求並下載檔案\n",
    "response = requests.get(url)\n",
    "with open(filename, \"wb\") as f:\n",
    "    f.write(response.content)\n"
   ]
  },
  {
   "attachments": {},
   "cell_type": "markdown",
   "id": "5b12a517",
   "metadata": {},
   "source": [
    "## 另一種擷取方式，先判斷哪幾頁有準則，再擷取那幾頁"
   ]
  },
  {
   "cell_type": "code",
   "execution_count": 72,
   "id": "17a878b1",
   "metadata": {},
   "outputs": [],
   "source": [
    "pdf = pr.open(filename)\n",
    "ps = pdf.pages\n",
    "df_new=[]\n",
    "new_page=[]\n",
    "columns_count = []\n",
    " # 取得總頁數\n",
    "total_pages = len(pdf.pages)\n",
    "# 設定起始頁數\n",
    "start_page = int(total_pages * 0.8)\n",
    "    \n",
    "# 迭代每頁，從設定的起始頁開始\n",
    "for page in pdf.pages[start_page:]:\n",
    "    text = page.extract_text()\n",
    "    if (\"GRI\" and \"頁\" )in text:\n",
    "        new_page.append(page)\n",
    "        for page in new_page:\n",
    "            tables = page.extract_tables()\n",
    "            for df in tables:\n",
    "                df1= pd.DataFrame(df, columns=df[0])\n",
    "                df1=df1.drop_duplicates()\n",
    "                df_new.append(df1) "
   ]
  },
  {
   "cell_type": "code",
   "execution_count": 73,
   "id": "8fbb4da1",
   "metadata": {
    "scrolled": true
   },
   "outputs": [],
   "source": [
    "UR=[]\n",
    "final=[]\n",
    "pattern=\"\\d{1,3}[\\-－]\\d{1,2}\"\n",
    "\n",
    "for df in df_new:\n",
    "    if df.shape[1] >= 4:\n",
    "        final.append(df)\n",
    "        for df in final:\n",
    "            # 检查当前DataFrame对象的前两列是否与正则表达式匹配\n",
    "            \n",
    "            col1 = df.iloc[:, 0]\n",
    "            col2 = df.iloc[:, 1]\n",
    "            \n",
    "            matches = col1.str.contains(pattern) | col2.str.contains(pattern)\n",
    "\n",
    "            # 如果至少有一个单元格与正则表达式匹配，则将该DataFrame添加到UR列表中\n",
    "            if matches.any():\n",
    "                UR.append(df)"
   ]
  },
  {
   "cell_type": "code",
   "execution_count": 77,
   "id": "dfe87712",
   "metadata": {},
   "outputs": [],
   "source": [
    "# 對於每個DataFrame，只保留包含指定模式的列\n",
    "new_df=pd.DataFrame()\n",
    "for df in UR:\n",
    "    pattern = r\"\\d{1,3}[\\-－]\\d{1,2}\"\n",
    "    has_page_condition = lambda x: x.str.contains(\"頁\")\n",
    "    # 使用 str.contains() 方法和 `|` 操作符組合篩選條件\n",
    "    filtered_df = df.loc[:, df.apply(lambda x: x.str.contains(pattern) | has_page_condition(x)).any()]\n",
    "    new_df = pd.concat([new_df, filtered_df], axis=0)"
   ]
  },
  {
   "attachments": {},
   "cell_type": "markdown",
   "id": "02dcf53e",
   "metadata": {},
   "source": [
    "## 輸出表格為.XLSX"
   ]
  },
  {
   "cell_type": "code",
   "execution_count": 80,
   "id": "ce313bc4",
   "metadata": {},
   "outputs": [],
   "source": [
    "new_df=new_df.reset_index(drop=True)\n",
    "new_df=new_df.drop_duplicates()\n",
    "new_df=new_df.rename(columns={new_df.columns[1]:\"pages\"})\n",
    "import re\n",
    "pattern=\"\\d{3}-\\d{1,2}\"\n",
    "\n",
    "for i in range(new_df.shape[0]):\n",
    "    # 檢查第一欄是否符合正則表達式(pattern)\n",
    "    if re.match(pattern, str(new_df.iloc[i, 0])):\n",
    "        # 第一欄符合條件，不作處理\n",
    "        new_df.iloc[i, 0] = str(re.findall(pattern, str(new_df.iloc[i, 0]))[0])\n",
    "    else:\n",
    "        # 第一欄不符合條件，清空該欄\n",
    "        # 清空該列的其他欄位\n",
    "        for j in range(new_df.shape[1]):\n",
    "            new_df.iloc[i, j] = ''\n",
    "\n",
    "new_df=new_df.dropna()\n",
    "output_excel=filename+'.xlsx'\n",
    "new_df.to_excel(output_excel,index=False)"
   ]
  }
 ],
 "metadata": {
  "kernelspec": {
   "display_name": "Python 3 (ipykernel)",
   "language": "python",
   "name": "python3"
  },
  "language_info": {
   "codemirror_mode": {
    "name": "ipython",
    "version": 3
   },
   "file_extension": ".py",
   "mimetype": "text/x-python",
   "name": "python",
   "nbconvert_exporter": "python",
   "pygments_lexer": "ipython3",
   "version": "3.10.11"
  }
 },
 "nbformat": 4,
 "nbformat_minor": 5
}
